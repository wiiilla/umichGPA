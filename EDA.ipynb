{
 "cells": [
  {
   "cell_type": "code",
   "execution_count": 1,
   "metadata": {},
   "outputs": [],
   "source": [
    "import pandas as pd\n",
    "import numpy as np\n",
    "import altair as alt"
   ]
  },
  {
   "cell_type": "markdown",
   "metadata": {},
   "source": [
    "# EDA"
   ]
  },
  {
   "cell_type": "code",
   "execution_count": 2,
   "metadata": {},
   "outputs": [
    {
     "output_type": "execute_result",
     "data": {
      "text/plain": [
       "(5948, 28)"
      ]
     },
     "metadata": {},
     "execution_count": 2
    }
   ],
   "source": [
    "df = pd.read_csv('data/gradeguide_data.csv')\n",
    "df.shape"
   ]
  },
  {
   "cell_type": "code",
   "execution_count": 3,
   "metadata": {},
   "outputs": [
    {
     "output_type": "execute_result",
     "data": {
      "text/plain": [
       "      Term School Code                          School  \\\n",
       "0  FA 2015         LSA  Literature, Science & the Arts   \n",
       "1  FA 2017         MUS          Music, Theatre & Dance   \n",
       "2  FA 2014         LSA  Literature, Science & the Arts   \n",
       "3  FA 2016         LSA  Literature, Science & the Arts   \n",
       "4  WN 2017          BA         Ross School of Business   \n",
       "\n",
       "                      Department Name Course Subject  Course Number  \\\n",
       "0        Political Science Department         POLSCI            498   \n",
       "1  School of Music, Theatre and Dance          PIANO            111   \n",
       "2                Economics Department           ECON            444   \n",
       "3    Earth and Environmental Sciences          EARTH            222   \n",
       "4   School of Business Administration            MKT            310   \n",
       "\n",
       "                                      Course Title  Total Grades       GPA  \\\n",
       "0  Undergraduate Seminar in International Politics            40  3.632500   \n",
       "1                                      Performance            51  3.662745   \n",
       "2                             The European Economy           121  3.383471   \n",
       "3                        Introductory Oceanography           108  3.508333   \n",
       "4                 Fundamentals of Sales Management           118  3.540678   \n",
       "\n",
       "   GPA with 4.3 A+  ...  C-  D+  D  D-  E  Desire to take  Understanding  \\\n",
       "0         3.632500  ...   1   0  0   0  0            78.0           90.0   \n",
       "1         3.733333  ...   0   0  0   0  0            60.0          100.0   \n",
       "2         3.395868  ...   0   0  0   0  0            93.0           95.0   \n",
       "3         3.522222  ...   0   0  0   0  1            50.0           88.0   \n",
       "4         3.571186  ...   0   0  0   0  0             NaN            NaN   \n",
       "\n",
       "   Workload  Expectations  Increased Interest  \n",
       "0      38.0          61.0                84.0  \n",
       "1      20.0          96.0                82.0  \n",
       "2      24.0          90.0                90.0  \n",
       "3       8.0          79.0                61.0  \n",
       "4       NaN           NaN                 NaN  \n",
       "\n",
       "[5 rows x 28 columns]"
      ],
      "text/html": "<div>\n<style scoped>\n    .dataframe tbody tr th:only-of-type {\n        vertical-align: middle;\n    }\n\n    .dataframe tbody tr th {\n        vertical-align: top;\n    }\n\n    .dataframe thead th {\n        text-align: right;\n    }\n</style>\n<table border=\"1\" class=\"dataframe\">\n  <thead>\n    <tr style=\"text-align: right;\">\n      <th></th>\n      <th>Term</th>\n      <th>School Code</th>\n      <th>School</th>\n      <th>Department Name</th>\n      <th>Course Subject</th>\n      <th>Course Number</th>\n      <th>Course Title</th>\n      <th>Total Grades</th>\n      <th>GPA</th>\n      <th>GPA with 4.3 A+</th>\n      <th>...</th>\n      <th>C-</th>\n      <th>D+</th>\n      <th>D</th>\n      <th>D-</th>\n      <th>E</th>\n      <th>Desire to take</th>\n      <th>Understanding</th>\n      <th>Workload</th>\n      <th>Expectations</th>\n      <th>Increased Interest</th>\n    </tr>\n  </thead>\n  <tbody>\n    <tr>\n      <th>0</th>\n      <td>FA 2015</td>\n      <td>LSA</td>\n      <td>Literature, Science &amp; the Arts</td>\n      <td>Political Science Department</td>\n      <td>POLSCI</td>\n      <td>498</td>\n      <td>Undergraduate Seminar in International Politics</td>\n      <td>40</td>\n      <td>3.632500</td>\n      <td>3.632500</td>\n      <td>...</td>\n      <td>1</td>\n      <td>0</td>\n      <td>0</td>\n      <td>0</td>\n      <td>0</td>\n      <td>78.0</td>\n      <td>90.0</td>\n      <td>38.0</td>\n      <td>61.0</td>\n      <td>84.0</td>\n    </tr>\n    <tr>\n      <th>1</th>\n      <td>FA 2017</td>\n      <td>MUS</td>\n      <td>Music, Theatre &amp; Dance</td>\n      <td>School of Music, Theatre and Dance</td>\n      <td>PIANO</td>\n      <td>111</td>\n      <td>Performance</td>\n      <td>51</td>\n      <td>3.662745</td>\n      <td>3.733333</td>\n      <td>...</td>\n      <td>0</td>\n      <td>0</td>\n      <td>0</td>\n      <td>0</td>\n      <td>0</td>\n      <td>60.0</td>\n      <td>100.0</td>\n      <td>20.0</td>\n      <td>96.0</td>\n      <td>82.0</td>\n    </tr>\n    <tr>\n      <th>2</th>\n      <td>FA 2014</td>\n      <td>LSA</td>\n      <td>Literature, Science &amp; the Arts</td>\n      <td>Economics Department</td>\n      <td>ECON</td>\n      <td>444</td>\n      <td>The European Economy</td>\n      <td>121</td>\n      <td>3.383471</td>\n      <td>3.395868</td>\n      <td>...</td>\n      <td>0</td>\n      <td>0</td>\n      <td>0</td>\n      <td>0</td>\n      <td>0</td>\n      <td>93.0</td>\n      <td>95.0</td>\n      <td>24.0</td>\n      <td>90.0</td>\n      <td>90.0</td>\n    </tr>\n    <tr>\n      <th>3</th>\n      <td>FA 2016</td>\n      <td>LSA</td>\n      <td>Literature, Science &amp; the Arts</td>\n      <td>Earth and Environmental Sciences</td>\n      <td>EARTH</td>\n      <td>222</td>\n      <td>Introductory Oceanography</td>\n      <td>108</td>\n      <td>3.508333</td>\n      <td>3.522222</td>\n      <td>...</td>\n      <td>0</td>\n      <td>0</td>\n      <td>0</td>\n      <td>0</td>\n      <td>1</td>\n      <td>50.0</td>\n      <td>88.0</td>\n      <td>8.0</td>\n      <td>79.0</td>\n      <td>61.0</td>\n    </tr>\n    <tr>\n      <th>4</th>\n      <td>WN 2017</td>\n      <td>BA</td>\n      <td>Ross School of Business</td>\n      <td>School of Business Administration</td>\n      <td>MKT</td>\n      <td>310</td>\n      <td>Fundamentals of Sales Management</td>\n      <td>118</td>\n      <td>3.540678</td>\n      <td>3.571186</td>\n      <td>...</td>\n      <td>0</td>\n      <td>0</td>\n      <td>0</td>\n      <td>0</td>\n      <td>0</td>\n      <td>NaN</td>\n      <td>NaN</td>\n      <td>NaN</td>\n      <td>NaN</td>\n      <td>NaN</td>\n    </tr>\n  </tbody>\n</table>\n<p>5 rows × 28 columns</p>\n</div>"
     },
     "metadata": {},
     "execution_count": 3
    }
   ],
   "source": [
    "df.head()"
   ]
  },
  {
   "cell_type": "markdown",
   "metadata": {},
   "source": [
    "Number of unique courses"
   ]
  },
  {
   "cell_type": "code",
   "execution_count": 4,
   "metadata": {},
   "outputs": [],
   "source": [
    "df['Course'] = df['Course Subject'] + ' ' + df['Course Number'].astype(str)"
   ]
  },
  {
   "cell_type": "code",
   "execution_count": 5,
   "metadata": {},
   "outputs": [
    {
     "output_type": "execute_result",
     "data": {
      "text/plain": [
       "2141"
      ]
     },
     "metadata": {},
     "execution_count": 5
    }
   ],
   "source": [
    "df['Course'].nunique()"
   ]
  },
  {
   "cell_type": "code",
   "execution_count": 6,
   "metadata": {},
   "outputs": [
    {
     "output_type": "execute_result",
     "data": {
      "text/plain": [
       "count    5948.000000\n",
       "mean      111.740921\n",
       "std       172.506769\n",
       "min        17.000000\n",
       "25%        39.000000\n",
       "50%        58.000000\n",
       "75%       104.000000\n",
       "max      2152.000000\n",
       "Name: Total Grades, dtype: float64"
      ]
     },
     "metadata": {},
     "execution_count": 6
    }
   ],
   "source": [
    "df['Total Grades'].describe()"
   ]
  },
  {
   "cell_type": "markdown",
   "metadata": {},
   "source": [
    "Number of unique courses by term"
   ]
  },
  {
   "cell_type": "code",
   "execution_count": 7,
   "metadata": {},
   "outputs": [
    {
     "output_type": "execute_result",
     "data": {
      "text/plain": [
       "         Course\n",
       "Term           \n",
       "FA 2014     573\n",
       "FA 2015     570\n",
       "FA 2016    1095\n",
       "FA 2017    1098\n",
       "WN 2015     566\n",
       "WN 2016    1005\n",
       "WN 2017    1041"
      ],
      "text/html": "<div>\n<style scoped>\n    .dataframe tbody tr th:only-of-type {\n        vertical-align: middle;\n    }\n\n    .dataframe tbody tr th {\n        vertical-align: top;\n    }\n\n    .dataframe thead th {\n        text-align: right;\n    }\n</style>\n<table border=\"1\" class=\"dataframe\">\n  <thead>\n    <tr style=\"text-align: right;\">\n      <th></th>\n      <th>Course</th>\n    </tr>\n    <tr>\n      <th>Term</th>\n      <th></th>\n    </tr>\n  </thead>\n  <tbody>\n    <tr>\n      <th>FA 2014</th>\n      <td>573</td>\n    </tr>\n    <tr>\n      <th>FA 2015</th>\n      <td>570</td>\n    </tr>\n    <tr>\n      <th>FA 2016</th>\n      <td>1095</td>\n    </tr>\n    <tr>\n      <th>FA 2017</th>\n      <td>1098</td>\n    </tr>\n    <tr>\n      <th>WN 2015</th>\n      <td>566</td>\n    </tr>\n    <tr>\n      <th>WN 2016</th>\n      <td>1005</td>\n    </tr>\n    <tr>\n      <th>WN 2017</th>\n      <td>1041</td>\n    </tr>\n  </tbody>\n</table>\n</div>"
     },
     "metadata": {},
     "execution_count": 7
    }
   ],
   "source": [
    "df[['Term','Course']].groupby('Term').nunique()"
   ]
  },
  {
   "cell_type": "markdown",
   "metadata": {},
   "source": [
    "Data time span"
   ]
  },
  {
   "cell_type": "code",
   "execution_count": 8,
   "metadata": {},
   "outputs": [
    {
     "output_type": "execute_result",
     "data": {
      "text/plain": [
       "FA 2017    1098\n",
       "FA 2016    1095\n",
       "WN 2017    1041\n",
       "WN 2016    1005\n",
       "FA 2014     573\n",
       "FA 2015     570\n",
       "WN 2015     566\n",
       "Name: Term, dtype: int64"
      ]
     },
     "metadata": {},
     "execution_count": 8
    }
   ],
   "source": [
    "df['Term'].value_counts()"
   ]
  },
  {
   "cell_type": "markdown",
   "metadata": {},
   "source": [
    "## 2 years of data: 2016 to 2018 (Winter 2016, Fall 2016, Winter 2017, Fall 2017)"
   ]
  },
  {
   "cell_type": "code",
   "execution_count": 9,
   "metadata": {},
   "outputs": [],
   "source": [
    "df_16to18 = df[(df['Term'] != 'FA 2014') & (df['Term'] != 'FA 2015') & (df['Term'] != 'WN 2015')]"
   ]
  },
  {
   "cell_type": "code",
   "execution_count": 10,
   "metadata": {},
   "outputs": [
    {
     "output_type": "execute_result",
     "data": {
      "text/plain": [
       "array(['FA 2017', 'FA 2016', 'WN 2017', 'WN 2016'], dtype=object)"
      ]
     },
     "metadata": {},
     "execution_count": 10
    }
   ],
   "source": [
    "df_16to18['Term'].unique()"
   ]
  },
  {
   "cell_type": "markdown",
   "metadata": {},
   "source": [
    "## Calculate average GPA for each course in 4.0 scale"
   ]
  },
  {
   "cell_type": "code",
   "execution_count": 11,
   "metadata": {},
   "outputs": [],
   "source": [
    "gpa_scale = pd.read_csv('data/umich_gpa_scale.csv')\n",
    "letter_gpa_mapping = {k: v for (k, v) in zip(gpa_scale['Letter Grade'], gpa_scale['GPA'])}"
   ]
  },
  {
   "cell_type": "code",
   "execution_count": 12,
   "metadata": {},
   "outputs": [
    {
     "output_type": "execute_result",
     "data": {
      "text/plain": [
       "         Course Number  Total Grades  A+   A  A-  B+   B  B-  C+   C  C-  D+  \\\n",
       "Course                                                                         \n",
       "AAS 103            103            37   3  12   4   3   6   4   0   4   0   0   \n",
       "AAS 104            312           118   2  26  39  22  11  11   3   2   1   1   \n",
       "AAS 111            444           337  15  93  80  61  38  24   7  12   5   1   \n",
       "AAS 208            208            32   1   4   7   4   4   7   0   1   3   1   \n",
       "AAS 248            248            34   0  14  12   4   3   1   0   0   0   0   \n",
       "\n",
       "         D  D-  E  \n",
       "Course             \n",
       "AAS 103  1   0  0  \n",
       "AAS 104  0   0  0  \n",
       "AAS 111  0   0  1  \n",
       "AAS 208  0   0  0  \n",
       "AAS 248  0   0  0  "
      ],
      "text/html": "<div>\n<style scoped>\n    .dataframe tbody tr th:only-of-type {\n        vertical-align: middle;\n    }\n\n    .dataframe tbody tr th {\n        vertical-align: top;\n    }\n\n    .dataframe thead th {\n        text-align: right;\n    }\n</style>\n<table border=\"1\" class=\"dataframe\">\n  <thead>\n    <tr style=\"text-align: right;\">\n      <th></th>\n      <th>Course Number</th>\n      <th>Total Grades</th>\n      <th>A+</th>\n      <th>A</th>\n      <th>A-</th>\n      <th>B+</th>\n      <th>B</th>\n      <th>B-</th>\n      <th>C+</th>\n      <th>C</th>\n      <th>C-</th>\n      <th>D+</th>\n      <th>D</th>\n      <th>D-</th>\n      <th>E</th>\n    </tr>\n    <tr>\n      <th>Course</th>\n      <th></th>\n      <th></th>\n      <th></th>\n      <th></th>\n      <th></th>\n      <th></th>\n      <th></th>\n      <th></th>\n      <th></th>\n      <th></th>\n      <th></th>\n      <th></th>\n      <th></th>\n      <th></th>\n      <th></th>\n    </tr>\n  </thead>\n  <tbody>\n    <tr>\n      <th>AAS 103</th>\n      <td>103</td>\n      <td>37</td>\n      <td>3</td>\n      <td>12</td>\n      <td>4</td>\n      <td>3</td>\n      <td>6</td>\n      <td>4</td>\n      <td>0</td>\n      <td>4</td>\n      <td>0</td>\n      <td>0</td>\n      <td>1</td>\n      <td>0</td>\n      <td>0</td>\n    </tr>\n    <tr>\n      <th>AAS 104</th>\n      <td>312</td>\n      <td>118</td>\n      <td>2</td>\n      <td>26</td>\n      <td>39</td>\n      <td>22</td>\n      <td>11</td>\n      <td>11</td>\n      <td>3</td>\n      <td>2</td>\n      <td>1</td>\n      <td>1</td>\n      <td>0</td>\n      <td>0</td>\n      <td>0</td>\n    </tr>\n    <tr>\n      <th>AAS 111</th>\n      <td>444</td>\n      <td>337</td>\n      <td>15</td>\n      <td>93</td>\n      <td>80</td>\n      <td>61</td>\n      <td>38</td>\n      <td>24</td>\n      <td>7</td>\n      <td>12</td>\n      <td>5</td>\n      <td>1</td>\n      <td>0</td>\n      <td>0</td>\n      <td>1</td>\n    </tr>\n    <tr>\n      <th>AAS 208</th>\n      <td>208</td>\n      <td>32</td>\n      <td>1</td>\n      <td>4</td>\n      <td>7</td>\n      <td>4</td>\n      <td>4</td>\n      <td>7</td>\n      <td>0</td>\n      <td>1</td>\n      <td>3</td>\n      <td>1</td>\n      <td>0</td>\n      <td>0</td>\n      <td>0</td>\n    </tr>\n    <tr>\n      <th>AAS 248</th>\n      <td>248</td>\n      <td>34</td>\n      <td>0</td>\n      <td>14</td>\n      <td>12</td>\n      <td>4</td>\n      <td>3</td>\n      <td>1</td>\n      <td>0</td>\n      <td>0</td>\n      <td>0</td>\n      <td>0</td>\n      <td>0</td>\n      <td>0</td>\n      <td>0</td>\n    </tr>\n  </tbody>\n</table>\n</div>"
     },
     "metadata": {},
     "execution_count": 12
    }
   ],
   "source": [
    "df_16to18_courses = df_16to18.groupby('Course').sum().drop(columns = ['GPA', 'GPA with 4.3 A+', 'Desire to take', 'Understanding', 'Workload', 'Expectations', 'Increased Interest'])\n",
    "df_16to18_courses.head()"
   ]
  },
  {
   "cell_type": "code",
   "execution_count": 13,
   "metadata": {},
   "outputs": [],
   "source": [
    "def cal_gpa(row):\n",
    "    student_count = row.to_dict()['Total Grades']\n",
    "    total_gpa = sum([ row.to_dict()[l]*letter_gpa_mapping[l] for l in letter_gpa_mapping.keys()] )\n",
    "    return total_gpa/student_count"
   ]
  },
  {
   "cell_type": "code",
   "execution_count": 14,
   "metadata": {
    "tags": []
   },
   "outputs": [],
   "source": [
    "df_16to18_courses['Average GPA'] = df_16to18_courses.apply(lambda x: cal_gpa(x), axis = 1)"
   ]
  },
  {
   "cell_type": "markdown",
   "metadata": {},
   "source": [
    "Add back textual informations"
   ]
  },
  {
   "cell_type": "code",
   "execution_count": 15,
   "metadata": {},
   "outputs": [],
   "source": [
    "df_16to18_courses.reset_index(inplace = True)\n",
    "df_16to18_courses.drop(columns = ['Course Number'], inplace = True)"
   ]
  },
  {
   "cell_type": "code",
   "execution_count": 16,
   "metadata": {},
   "outputs": [],
   "source": [
    "df_16to18_courses = df_16to18_courses.merge(\n",
    "    df[['School Code', 'School', 'Department Name', 'Course Subject', 'Course Title', 'Course', 'Course Number']].drop_duplicates(subset=['Course']), on ='Course', how = 'inner', validate = 'one_to_many')"
   ]
  },
  {
   "cell_type": "code",
   "execution_count": 17,
   "metadata": {},
   "outputs": [
    {
     "output_type": "execute_result",
     "data": {
      "text/plain": [
       "    Course  Total Grades  A+   A  A-  B+   B  B-  C+   C  ...  D  D-  E  \\\n",
       "0  AAS 103            37   3  12   4   3   6   4   0   4  ...  1   0  0   \n",
       "1  AAS 104           118   2  26  39  22  11  11   3   2  ...  0   0  0   \n",
       "2  AAS 111           337  15  93  80  61  38  24   7  12  ...  0   0  1   \n",
       "3  AAS 208            32   1   4   7   4   4   7   0   1  ...  0   0  0   \n",
       "4  AAS 248            34   0  14  12   4   3   1   0   0  ...  0   0  0   \n",
       "\n",
       "   Average GPA  School Code                          School  \\\n",
       "0     3.310811          LSA  Literature, Science & the Arts   \n",
       "1     3.436441          LSA  Literature, Science & the Arts   \n",
       "2     3.436202          LSA  Literature, Science & the Arts   \n",
       "3     3.075000          LSA  Literature, Science & the Arts   \n",
       "4     3.685294          LSA  Literature, Science & the Arts   \n",
       "\n",
       "                                   Department Name Course Subject  \\\n",
       "0  Department of Afro-American and African Studies            AAS   \n",
       "1  Department of Afro-American and African Studies            AAS   \n",
       "2  Department of Afro-American and African Studies            AAS   \n",
       "3  Department of Afro-American and African Studies            AAS   \n",
       "4  Department of Afro-American and African Studies            AAS   \n",
       "\n",
       "                              Course Title Course Number  \n",
       "0        First Year Social Science Seminar           103  \n",
       "1            First Year Humanities Seminar           104  \n",
       "2  Introduction to Africa and Its Diaspora           111  \n",
       "3              Introduction to African Art           208  \n",
       "4                 Crime, Race, and the Law           248  \n",
       "\n",
       "[5 rows x 22 columns]"
      ],
      "text/html": "<div>\n<style scoped>\n    .dataframe tbody tr th:only-of-type {\n        vertical-align: middle;\n    }\n\n    .dataframe tbody tr th {\n        vertical-align: top;\n    }\n\n    .dataframe thead th {\n        text-align: right;\n    }\n</style>\n<table border=\"1\" class=\"dataframe\">\n  <thead>\n    <tr style=\"text-align: right;\">\n      <th></th>\n      <th>Course</th>\n      <th>Total Grades</th>\n      <th>A+</th>\n      <th>A</th>\n      <th>A-</th>\n      <th>B+</th>\n      <th>B</th>\n      <th>B-</th>\n      <th>C+</th>\n      <th>C</th>\n      <th>...</th>\n      <th>D</th>\n      <th>D-</th>\n      <th>E</th>\n      <th>Average GPA</th>\n      <th>School Code</th>\n      <th>School</th>\n      <th>Department Name</th>\n      <th>Course Subject</th>\n      <th>Course Title</th>\n      <th>Course Number</th>\n    </tr>\n  </thead>\n  <tbody>\n    <tr>\n      <th>0</th>\n      <td>AAS 103</td>\n      <td>37</td>\n      <td>3</td>\n      <td>12</td>\n      <td>4</td>\n      <td>3</td>\n      <td>6</td>\n      <td>4</td>\n      <td>0</td>\n      <td>4</td>\n      <td>...</td>\n      <td>1</td>\n      <td>0</td>\n      <td>0</td>\n      <td>3.310811</td>\n      <td>LSA</td>\n      <td>Literature, Science &amp; the Arts</td>\n      <td>Department of Afro-American and African Studies</td>\n      <td>AAS</td>\n      <td>First Year Social Science Seminar</td>\n      <td>103</td>\n    </tr>\n    <tr>\n      <th>1</th>\n      <td>AAS 104</td>\n      <td>118</td>\n      <td>2</td>\n      <td>26</td>\n      <td>39</td>\n      <td>22</td>\n      <td>11</td>\n      <td>11</td>\n      <td>3</td>\n      <td>2</td>\n      <td>...</td>\n      <td>0</td>\n      <td>0</td>\n      <td>0</td>\n      <td>3.436441</td>\n      <td>LSA</td>\n      <td>Literature, Science &amp; the Arts</td>\n      <td>Department of Afro-American and African Studies</td>\n      <td>AAS</td>\n      <td>First Year Humanities Seminar</td>\n      <td>104</td>\n    </tr>\n    <tr>\n      <th>2</th>\n      <td>AAS 111</td>\n      <td>337</td>\n      <td>15</td>\n      <td>93</td>\n      <td>80</td>\n      <td>61</td>\n      <td>38</td>\n      <td>24</td>\n      <td>7</td>\n      <td>12</td>\n      <td>...</td>\n      <td>0</td>\n      <td>0</td>\n      <td>1</td>\n      <td>3.436202</td>\n      <td>LSA</td>\n      <td>Literature, Science &amp; the Arts</td>\n      <td>Department of Afro-American and African Studies</td>\n      <td>AAS</td>\n      <td>Introduction to Africa and Its Diaspora</td>\n      <td>111</td>\n    </tr>\n    <tr>\n      <th>3</th>\n      <td>AAS 208</td>\n      <td>32</td>\n      <td>1</td>\n      <td>4</td>\n      <td>7</td>\n      <td>4</td>\n      <td>4</td>\n      <td>7</td>\n      <td>0</td>\n      <td>1</td>\n      <td>...</td>\n      <td>0</td>\n      <td>0</td>\n      <td>0</td>\n      <td>3.075000</td>\n      <td>LSA</td>\n      <td>Literature, Science &amp; the Arts</td>\n      <td>Department of Afro-American and African Studies</td>\n      <td>AAS</td>\n      <td>Introduction to African Art</td>\n      <td>208</td>\n    </tr>\n    <tr>\n      <th>4</th>\n      <td>AAS 248</td>\n      <td>34</td>\n      <td>0</td>\n      <td>14</td>\n      <td>12</td>\n      <td>4</td>\n      <td>3</td>\n      <td>1</td>\n      <td>0</td>\n      <td>0</td>\n      <td>...</td>\n      <td>0</td>\n      <td>0</td>\n      <td>0</td>\n      <td>3.685294</td>\n      <td>LSA</td>\n      <td>Literature, Science &amp; the Arts</td>\n      <td>Department of Afro-American and African Studies</td>\n      <td>AAS</td>\n      <td>Crime, Race, and the Law</td>\n      <td>248</td>\n    </tr>\n  </tbody>\n</table>\n<p>5 rows × 22 columns</p>\n</div>"
     },
     "metadata": {},
     "execution_count": 17
    }
   ],
   "source": [
    "df_16to18_courses.head()"
   ]
  },
  {
   "cell_type": "markdown",
   "metadata": {},
   "source": [
    "## Get course level"
   ]
  },
  {
   "cell_type": "code",
   "execution_count": 18,
   "metadata": {},
   "outputs": [],
   "source": [
    "df_16to18_courses['Level'] = df_16to18_courses['Course Number'].apply(lambda x: \n",
    "    100 if x//100 == 1 else \n",
    "    200 if x//100 == 2 else \n",
    "    300 if x//100 == 3 else \n",
    "    400 if x//100 == 4 else \n",
    "    500 if x//100 == 5 else \n",
    "    600 if x//100 == 6 else \n",
    "    np.NaN\n",
    "    )"
   ]
  },
  {
   "cell_type": "code",
   "execution_count": 19,
   "metadata": {},
   "outputs": [
    {
     "output_type": "execute_result",
     "data": {
      "text/plain": [
       "300.0    507\n",
       "400.0    406\n",
       "200.0    384\n",
       "500.0    255\n",
       "100.0    244\n",
       "600.0    114\n",
       "Name: Level, dtype: int64"
      ]
     },
     "metadata": {},
     "execution_count": 19
    }
   ],
   "source": [
    "df_16to18_courses['Level'].value_counts()"
   ]
  },
  {
   "cell_type": "markdown",
   "metadata": {},
   "source": [
    "## Weeder classes: lowerlevel courses with a high percentage of grades lower than C"
   ]
  },
  {
   "cell_type": "markdown",
   "metadata": {},
   "source": [
    "Percentage of students who gets lower than C"
   ]
  },
  {
   "cell_type": "code",
   "execution_count": 20,
   "metadata": {},
   "outputs": [],
   "source": [
    "def cal_weeded(row):\n",
    "    student_count = row.to_dict()['Total Grades']\n",
    "    total_A = sum([ row.to_dict()[l] for l in ['C-','D+','D','D-','E']] )\n",
    "    return total_A/student_count*100"
   ]
  },
  {
   "cell_type": "code",
   "execution_count": 21,
   "metadata": {},
   "outputs": [],
   "source": [
    "df_16to18_courses['weeded%'] = df_16to18_courses.apply(lambda x: cal_weeded(x), axis = 1)"
   ]
  },
  {
   "cell_type": "code",
   "execution_count": 22,
   "metadata": {},
   "outputs": [
    {
     "output_type": "execute_result",
     "data": {
      "text/plain": [
       "count    1926.000000\n",
       "mean        1.711453\n",
       "std         2.895608\n",
       "min         0.000000\n",
       "25%         0.000000\n",
       "50%         0.212208\n",
       "75%         2.377749\n",
       "max        28.272251\n",
       "Name: weeded%, dtype: float64"
      ]
     },
     "metadata": {},
     "execution_count": 22
    }
   ],
   "source": [
    "df_16to18_courses['weeded%'].describe()"
   ]
  },
  {
   "cell_type": "code",
   "execution_count": 23,
   "metadata": {},
   "outputs": [],
   "source": [
    "WEED_THRESHOLD = 5"
   ]
  },
  {
   "cell_type": "code",
   "execution_count": 24,
   "metadata": {},
   "outputs": [
    {
     "output_type": "execute_result",
     "data": {
      "text/plain": [
       "0.1592356687898089"
      ]
     },
     "metadata": {},
     "execution_count": 24
    }
   ],
   "source": [
    "df_16to18_courses[(df_16to18_courses['weeded%'] >= WEED_THRESHOLD)&\n",
    "    (df_16to18_courses['Level'] <= 200)].shape[0] / df_16to18_courses[(df_16to18_courses['Level'] <= 200)].shape[0] "
   ]
  },
  {
   "cell_type": "code",
   "execution_count": 25,
   "metadata": {},
   "outputs": [],
   "source": [
    "df_16to18_courses['Weeder'] = (df_16to18_courses['weeded%'] >= WEED_THRESHOLD)&(df_16to18_courses['Level'] <= 200)"
   ]
  },
  {
   "cell_type": "markdown",
   "metadata": {},
   "source": [
    "### Easy As: classes with lots of As, and no lower than C grades"
   ]
  },
  {
   "cell_type": "markdown",
   "metadata": {},
   "source": [
    "Percentage of students who gets an A+, A or A-"
   ]
  },
  {
   "cell_type": "code",
   "execution_count": 26,
   "metadata": {},
   "outputs": [],
   "source": [
    "def cal_A(row):\n",
    "    student_count = row.to_dict()['Total Grades']\n",
    "    total_A = sum([ row.to_dict()[l] for l in ['A+','A','A-']] )\n",
    "    return total_A/student_count*100"
   ]
  },
  {
   "cell_type": "code",
   "execution_count": 27,
   "metadata": {},
   "outputs": [],
   "source": [
    "df_16to18_courses['A%'] = df_16to18_courses.apply(lambda x: cal_A(x), axis = 1)"
   ]
  },
  {
   "cell_type": "code",
   "execution_count": 28,
   "metadata": {},
   "outputs": [],
   "source": [
    "EASY_THRESHOLD = 90"
   ]
  },
  {
   "cell_type": "code",
   "execution_count": 32,
   "metadata": {},
   "outputs": [
    {
     "output_type": "execute_result",
     "data": {
      "text/plain": [
       "0.1526479750778816"
      ]
     },
     "metadata": {},
     "execution_count": 32
    }
   ],
   "source": [
    "df_16to18_courses[(df_16to18_courses['A%'] >= EASY_THRESHOLD) & (df_16to18_courses['weeded%'] == 0)].shape[0] / df_16to18_courses.shape[0]"
   ]
  },
  {
   "cell_type": "code",
   "execution_count": 30,
   "metadata": {},
   "outputs": [],
   "source": [
    "df_16to18_courses['Easy A'] = (df_16to18_courses['A%'] >= EASY_THRESHOLD) & (df_16to18_courses['weeded%'] == 0)"
   ]
  },
  {
   "cell_type": "code",
   "execution_count": null,
   "metadata": {},
   "outputs": [],
   "source": []
  },
  {
   "cell_type": "code",
   "execution_count": null,
   "metadata": {},
   "outputs": [],
   "source": []
  },
  {
   "cell_type": "code",
   "execution_count": 37,
   "metadata": {},
   "outputs": [],
   "source": [
    "final_df = df_16to18_courses[['Course', 'Course Title', 'School', 'School Code', 'Department Name', 'Course Subject', 'Course Number', 'Average GPA', 'Total Grades', 'Level', 'Weeder', 'weeded%', 'Easy A', 'A%']]"
   ]
  },
  {
   "cell_type": "code",
   "execution_count": 38,
   "metadata": {},
   "outputs": [],
   "source": [
    "final_df.to_csv('data/course_gpa_16_to_18_cleaned.csv')"
   ]
  },
  {
   "cell_type": "code",
   "execution_count": null,
   "metadata": {},
   "outputs": [],
   "source": []
  }
 ],
 "metadata": {
  "kernelspec": {
   "name": "python3",
   "display_name": "Python 3.8.2 64-bit",
   "metadata": {
    "interpreter": {
     "hash": "5edc29c2ed010d6458d71a83433b383a96a8cbd3efe8531bc90c4b8a5b8bcec9"
    }
   }
  },
  "language_info": {
   "codemirror_mode": {
    "name": "ipython",
    "version": 3
   },
   "file_extension": ".py",
   "mimetype": "text/x-python",
   "name": "python",
   "nbconvert_exporter": "python",
   "pygments_lexer": "ipython3",
   "version": "3.8.2"
  }
 },
 "nbformat": 4,
 "nbformat_minor": 4
}